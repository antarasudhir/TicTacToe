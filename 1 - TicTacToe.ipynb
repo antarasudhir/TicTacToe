{
 "cells": [
  {
   "cell_type": "markdown",
   "id": "f348aee5",
   "metadata": {},
   "source": [
    "# Coding a game of TicTacToe\n",
    "\n",
    "\n",
    "How the game works:\n",
    "- Two players are required.\n",
    "- The game will randomly decide who gets to go first.\n",
    "- Player 1 chooses to be either X or O and makes the first move.\n",
    "- Player 2 then makes their move with the remaining marker.\n",
    "- The game goes on until a player gets three markers in a row (horizontal, vertical or diagonal) or the game has concluded in a   draw.\n",
    "- The players then get to decide whether they would like to keep playing or not by inputing 'Yes' or 'No'."
   ]
  },
  {
   "cell_type": "markdown",
   "id": "b195c191",
   "metadata": {},
   "source": [
    "1. The first step is create a clear board which will have spaces to place the markers."
   ]
  },
  {
   "cell_type": "code",
   "execution_count": null,
   "id": "8b1872fe",
   "metadata": {},
   "outputs": [],
   "source": [
    "from IPython.display import clear_output\n",
    "\n",
    "def display_board(board):\n",
    "    clear_output()\n",
    "    \n",
    "    print(' ' + board[1] + ' | ' + board[2] + ' | ' + board[3])\n",
    "    print('---|---|---')\n",
    "    print(' ' + board[4] + ' | ' + board[5] + ' | ' + board[6])\n",
    "    print('---|---|---')\n",
    "    print(' ' + board[7] + ' | ' + board[8] + ' | ' + board[9])"
   ]
  },
  {
   "cell_type": "markdown",
   "id": "d6536724",
   "metadata": {},
   "source": [
    "2. This step allows us to check whether we are able to display a a game board and if the visuals should be altered."
   ]
  },
  {
   "cell_type": "code",
   "execution_count": null,
   "id": "4505e388",
   "metadata": {},
   "outputs": [],
   "source": [
    "test_board = ['#','X','O','X','O','X','O','X','O','X']\n",
    "display_board(test_board)"
   ]
  },
  {
   "cell_type": "markdown",
   "id": "8ed6cf99",
   "metadata": {},
   "source": [
    "3. The first player must decide which marker they would like to use: X or O. Player 2 will be the remaining marker."
   ]
  },
  {
   "cell_type": "code",
   "execution_count": null,
   "id": "d6209fce",
   "metadata": {},
   "outputs": [],
   "source": [
    "def player_input():\n",
    "    marker = ''\n",
    "    \n",
    "    while marker not in ['X','O']:\n",
    "        marker = input(\"Player 1: Do you want to be X or O?: \").upper()\n",
    "        \n",
    "        if marker == 'X':\n",
    "            return ('X','O')\n",
    "        else:\n",
    "            return ('O','X')"
   ]
  },
  {
   "cell_type": "code",
   "execution_count": null,
   "id": "ed692ea8",
   "metadata": {},
   "outputs": [],
   "source": [
    "player_input()"
   ]
  },
  {
   "cell_type": "markdown",
   "id": "31066522",
   "metadata": {},
   "source": [
    "4. The next step is check if the position that the player has chosen to place the marker is free."
   ]
  },
  {
   "cell_type": "code",
   "execution_count": null,
   "id": "ccbb6ba4",
   "metadata": {},
   "outputs": [],
   "source": [
    "def place_marker(board, marker, position):\n",
    "    board[position] = marker"
   ]
  },
  {
   "cell_type": "code",
   "execution_count": null,
   "id": "c7e72477",
   "metadata": {},
   "outputs": [],
   "source": [
    "place_marker(test_board, '$', 2)\n",
    "display_board(test_board)"
   ]
  },
  {
   "cell_type": "markdown",
   "id": "19a361be",
   "metadata": {},
   "source": [
    "5. This function is used to check if there are any wins present on the board. The command will analyze whether there are three of the same markers in a row vertically, diagonally or horizontally"
   ]
  },
  {
   "cell_type": "code",
   "execution_count": null,
   "id": "80f0ef1a",
   "metadata": {},
   "outputs": [],
   "source": [
    "def win_check(board, mark):\n",
    "       return ((board[1] == mark and board[2] == mark and board[3] == mark) or # across the top\n",
    "    (board[4] == mark and board[5] == mark and board[6] == mark) or # across the middle\n",
    "    (board[7] == mark and board[8] == mark and board[9] == mark) or # across the bottom\n",
    "    (board[1] == mark and board[4] == mark and board[7] == mark) or # down the left\n",
    "    (board[2] == mark and board[5] == mark and board[8] == mark) or # down the middle\n",
    "    (board[3] == mark and board[6] == mark and board[9] == mark) or # down the right side\n",
    "    (board[1] == mark and board[5] == mark and board[9] == mark) or # diagonal\n",
    "    (board[3] == mark and board[5] == mark and board[7] == mark)) # diagonal"
   ]
  },
  {
   "cell_type": "code",
   "execution_count": null,
   "id": "07eae52b",
   "metadata": {},
   "outputs": [],
   "source": [
    "win_check(test_board,'X')"
   ]
  },
  {
   "cell_type": "markdown",
   "id": "f671698a",
   "metadata": {},
   "source": [
    "6. This function allows there to be a random selection of which player goes first."
   ]
  },
  {
   "cell_type": "code",
   "execution_count": null,
   "id": "86c52884",
   "metadata": {},
   "outputs": [],
   "source": [
    "import random\n",
    "\n",
    "def choose_first():\n",
    "    if random.randint(0, 1) == 0:\n",
    "        return 'Player 2'\n",
    "    else:\n",
    "        return 'Player 1'"
   ]
  },
  {
   "cell_type": "markdown",
   "id": "e91391a6",
   "metadata": {},
   "source": [
    "7. Next is to check if a space is available. A boolean function is used to return either a true or false value."
   ]
  },
  {
   "cell_type": "code",
   "execution_count": null,
   "id": "769ddaff",
   "metadata": {},
   "outputs": [],
   "source": [
    "def space_check(board, position):\n",
    "    return board[position] == ' '"
   ]
  },
  {
   "cell_type": "markdown",
   "id": "2d4ff6f7",
   "metadata": {},
   "source": [
    "8. The following function allows us to check if the baord is full of markers and returns a true or false value."
   ]
  },
  {
   "cell_type": "code",
   "execution_count": null,
   "id": "cf36d23b",
   "metadata": {},
   "outputs": [],
   "source": [
    "def full_board_check(board):\n",
    "    for i in range(0,10):\n",
    "        if space_check(board, i):\n",
    "            return False\n",
    "        \n",
    "    return True"
   ]
  },
  {
   "cell_type": "markdown",
   "id": "44dd4672",
   "metadata": {},
   "source": [
    "9. If the board has free spots left, the player is then asked to choose which position to place their next marker."
   ]
  },
  {
   "cell_type": "code",
   "execution_count": null,
   "id": "7c846466",
   "metadata": {},
   "outputs": [],
   "source": [
    "def player_choice(board):\n",
    "    position = 0\n",
    "    \n",
    "    while position not in [1,2,3,4,5,6,7,8,9] or not space_check(board, position):\n",
    "        position = int(input(\"Please choose your next position from (1-9): \"))\n",
    "        \n",
    "    return position"
   ]
  },
  {
   "cell_type": "markdown",
   "id": "5432e9d2",
   "metadata": {},
   "source": [
    "10. Once the game has ended, the player will get an option to choose to play again or not."
   ]
  },
  {
   "cell_type": "code",
   "execution_count": null,
   "id": "4308e307",
   "metadata": {},
   "outputs": [],
   "source": [
    "def replay():\n",
    "    choice = 'Wrong'\n",
    "    \n",
    "    while choice not in ['Yes','No']:\n",
    "        choice = input(\"Would you like to play again? Yes or No: \").capitalize()\n",
    "    \n",
    "    if choice not in ['Yes', 'No']:\n",
    "        print(\"Invalid input\")\n",
    "        \n",
    "    if choice == 'Yes':\n",
    "        return True\n",
    "    else:\n",
    "        return False"
   ]
  },
  {
   "cell_type": "markdown",
   "id": "1ca16930",
   "metadata": {},
   "source": [
    "11. The final step is run the game using while loops. "
   ]
  },
  {
   "cell_type": "code",
   "execution_count": null,
   "id": "45467604",
   "metadata": {},
   "outputs": [],
   "source": [
    "print('Welcome to Tic Tac Toe!')\n",
    "\n",
    "while True:\n",
    "    \n",
    "    theBoard = [' '] * 10\n",
    "    player1_marker, player2_marker = player_input()\n",
    "    turn = choose_first()\n",
    "    print(turn + ' will go first.')\n",
    "    \n",
    "    play_game = input('Are you ready to play? Enter Yes or No: ')\n",
    "    \n",
    "    if play_game.lower()[0] == 'y':\n",
    "        game_on = True\n",
    "    else:\n",
    "        game_on = False\n",
    "\n",
    "    while game_on:\n",
    "        if turn == 'Player 1':\n",
    "            \n",
    "            \n",
    "            display_board(theBoard)\n",
    "            position = player_choice(theBoard)\n",
    "            place_marker(theBoard, player1_marker, position)\n",
    "\n",
    "            if win_check(theBoard, player1_marker):\n",
    "                display_board(theBoard)\n",
    "                print('Congratulations! Player 1 has won the game!')\n",
    "                game_on = False\n",
    "            else:\n",
    "                if full_board_check(theBoard):\n",
    "                    display_board(theBoard)\n",
    "                    print('The game has ended in a  draw!')\n",
    "                    break\n",
    "                else:\n",
    "                    turn = 'Player 2'\n",
    "\n",
    "        else:\n",
    "           \n",
    "            \n",
    "            display_board(theBoard)\n",
    "            position = player_choice(theBoard)\n",
    "            place_marker(theBoard, player2_marker, position)\n",
    "\n",
    "            if win_check(theBoard, player2_marker):\n",
    "                display_board(theBoard)\n",
    "                print('Congratulation! Player 2 has won!')\n",
    "                game_on = False\n",
    "            else:\n",
    "                if full_board_check(theBoard):\n",
    "                    display_board(theBoard)\n",
    "                    print('The game has ended in a draw!')\n",
    "                    break\n",
    "                else:\n",
    "                    turn = 'Player 1'\n",
    "\n",
    "    if not replay():\n",
    "        break\n"
   ]
  }
 ],
 "metadata": {
  "kernelspec": {
   "display_name": "Python 3 (ipykernel)",
   "language": "python",
   "name": "python3"
  },
  "language_info": {
   "codemirror_mode": {
    "name": "ipython",
    "version": 3
   },
   "file_extension": ".py",
   "mimetype": "text/x-python",
   "name": "python",
   "nbconvert_exporter": "python",
   "pygments_lexer": "ipython3",
   "version": "3.11.4"
  }
 },
 "nbformat": 4,
 "nbformat_minor": 5
}
